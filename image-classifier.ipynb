{
  "nbformat": 4,
  "nbformat_minor": 0,
  "metadata": {
    "colab": {
      "name": "maps.ipynb",
      "provenance": [],
      "collapsed_sections": [],
      "toc_visible": true,
      "machine_shape": "hm"
    },
    "kernelspec": {
      "name": "python3",
      "display_name": "Python 3"
    }
  },
  "cells": [
    {
      "cell_type": "code",
      "metadata": {
        "id": "sT8igLT4r-y3",
        "colab_type": "code",
        "colab": {}
      },
      "source": [
        "import tensorflow as tf\n",
        "import sys\n",
        "import gc\n",
        "from multiprocessing import Pool"
      ],
      "execution_count": 0,
      "outputs": []
    },
    {
      "cell_type": "code",
      "metadata": {
        "id": "8VjS2TaEz69O",
        "colab_type": "code",
        "outputId": "02a9b0d6-d6de-4a41-888f-5ee99e95b5c8",
        "colab": {
          "base_uri": "https://localhost:8080/",
          "height": 139
        }
      },
      "source": [
        "!pip install pdf2image\n",
        "!apt-get install poppler-utils \n",
        "import cv2\n",
        "import numpy as np\n",
        "from PIL import Image\n",
        "import requests\n",
        "import pandas as pd\n",
        "from pdf2image import convert_from_path, convert_from_bytes\n",
        "\n",
        "df = pd.read_csv('omeka_files.csv', delimiter=\",\")"
      ],
      "execution_count": 0,
      "outputs": [
        {
          "output_type": "stream",
          "text": [
            "Requirement already satisfied: pdf2image in /usr/local/lib/python3.6/dist-packages (1.12.1)\n",
            "Requirement already satisfied: pillow in /usr/local/lib/python3.6/dist-packages (from pdf2image) (7.0.0)\n",
            "Reading package lists... Done\n",
            "Building dependency tree       \n",
            "Reading state information... Done\n",
            "poppler-utils is already the newest version (0.62.0-2ubuntu2.10).\n",
            "0 upgraded, 0 newly installed, 0 to remove and 25 not upgraded.\n"
          ],
          "name": "stdout"
        }
      ]
    },
    {
      "cell_type": "code",
      "metadata": {
        "id": "tjE_FXp2z3y_",
        "colab_type": "code",
        "outputId": "f4560872-c362-4546-84cd-3163362fbdb2",
        "colab": {
          "base_uri": "https://localhost:8080/",
          "height": 34
        }
      },
      "source": [
        "urls = []\n",
        "length = []\n",
        "for i in df[\"original_filename\"]:\n",
        "    # Remove integrated files\n",
        "    if len(i) == 76:\n",
        "        urls.append(i)\n",
        "print(len(urls))"
      ],
      "execution_count": 0,
      "outputs": [
        {
          "output_type": "stream",
          "text": [
            "10193\n"
          ],
          "name": "stdout"
        }
      ]
    },
    {
      "cell_type": "code",
      "metadata": {
        "id": "2QeWNxk-v5DS",
        "colab_type": "code",
        "colab": {}
      },
      "source": [
        "def is_it_map(t):\n",
        "\n",
        "    # Read in the image_data\n",
        "    if t == 0:\n",
        "        image_data = tf.compat.v1.gfile.FastGFile('/content/test.jpg', 'rb').read()\n",
        "    else:\n",
        "        image_data = tf.compat.v1.gfile.FastGFile('/content/testgs.jpg', 'rb').read()\n",
        "\n",
        "    # Loads label file, strips off carriage return\n",
        "    label_lines = [line.rstrip() for line \n",
        "                      in tf.compat.v1.gfile.GFile(\"/content/retrained_labels.txt\")]\n",
        "\n",
        "    # Unpersists graph from file\n",
        "    with tf.compat.v1.gfile.FastGFile(\"/content/retrained_graph.pb\", 'rb') as f:\n",
        "        graph_def = tf.compat.v1.GraphDef()\n",
        "        graph_def.ParseFromString(f.read())\n",
        "        _ = tf.import_graph_def(graph_def, name='')\n",
        "\n",
        "    with tf.compat.v1.Session() as sess:\n",
        "\n",
        "        # Feed the image_data as input to the graph and get first prediction\n",
        "        softmax_tensor = sess.graph.get_tensor_by_name('final_result:0')\n",
        "        \n",
        "        predictions = sess.run(softmax_tensor, \\\n",
        "                {'DecodeJpeg/contents:0': image_data})\n",
        "        \n",
        "        # Sort to show labels of first prediction in order of confidence\n",
        "        top_k = predictions[0].argsort()[-len(predictions[0]):][::-1]\n",
        "        \n",
        "        for node_id in top_k:\n",
        "            human_string = label_lines[node_id]\n",
        "            score = predictions[0][node_id]\n",
        "            # print the prediction result in a readable format\n",
        "            # print('%s (score = %.5f)' % (human_string, score))\n",
        "    sess.close()\n",
        "    \n",
        "    return (predictions[0][label_lines.index(\"maps\")])\n"
      ],
      "execution_count": 0,
      "outputs": []
    },
    {
      "cell_type": "code",
      "metadata": {
        "id": "pQCrdQo09nJZ",
        "colab_type": "code",
        "colab": {}
      },
      "source": [
        "def process_image(t):\n",
        "    with Pool(1) as p:\n",
        "        return p.apply(is_it_map, (t,))"
      ],
      "execution_count": 0,
      "outputs": []
    },
    {
      "cell_type": "code",
      "metadata": {
        "id": "96Ny5z8Jwew6",
        "colab_type": "code",
        "colab": {}
      },
      "source": [
        "def create_test_file(url, loc_page):\n",
        "\n",
        "    score_max = 0\n",
        "    \n",
        "    r = requests.get(url) \n",
        "    \n",
        "    with open(\"std.pdf\",'wb') as f: \n",
        "\n",
        "        f.write(r.content) \n",
        "\n",
        "    stds = convert_from_path(\"std.pdf\")\n",
        "\n",
        "    for i in stds:\n",
        "    \n",
        "        imcv = cv2.cvtColor(np.asarray(i), cv2.COLOR_RGB2BGR)\n",
        "        imcvgs = cv2.cvtColor(np.asarray(i), cv2.COLOR_BGR2GRAY)\n",
        "        scale_percent = 40 # percent of original size\n",
        "        width = int(imcv.shape[1] * scale_percent / 200)\n",
        "        height = int(imcv.shape[0] * scale_percent / 200)\n",
        "        dim = (width, height)\n",
        "        # resize image\n",
        "        test = cv2.resize(imcv, dim, interpolation = cv2.INTER_AREA)\n",
        "        testgs = cv2.resize(imcvgs, dim, interpolation = cv2.INTER_AREA)\n",
        "        cv2.waitKey(0)\n",
        "        cv2.destroyAllWindows()\n",
        "        # create image with/without grayscale\n",
        "        cv2.imwrite( \"test.jpg\", test)\n",
        "        cv2.imwrite( \"testgs.jpg\", testgs)\n",
        "\n",
        "        result = process_image(0)\n",
        "        gc.collect()\n",
        "        result_gs = process_image(1)\n",
        "        gc.collect()\n",
        "\n",
        "        result = max(result, result_gs)\n",
        "\n",
        "        if result > score_max:\n",
        "            if result > 0.85:\n",
        "                loc_page.append([stds.index(i)+1])\n",
        "            score_max = result\n",
        "\n",
        "    return score_max"
      ],
      "execution_count": 0,
      "outputs": []
    },
    {
      "cell_type": "code",
      "metadata": {
        "id": "Aq-WKGksw2GC",
        "colab_type": "code",
        "colab": {}
      },
      "source": [
        "scores=[]\n",
        "n=0\n",
        "for i in urls:\n",
        "    n+=1\n",
        "    loc_page = []\n",
        "    highest = create_test_file(i, loc_page)\n",
        "    if highest > 0.85:\n",
        "        for j in loc_page:\n",
        "            j.append(i)\n",
        "            scores.append(j)"
      ],
      "execution_count": 0,
      "outputs": []
    },
    {
      "cell_type": "code",
      "metadata": {
        "id": "ch8kJbb6T0sR",
        "colab_type": "code",
        "colab": {}
      },
      "source": [
        "for i in scores:\n",
        "    print(i)"
      ],
      "execution_count": 0,
      "outputs": []
    },
    {
      "cell_type": "code",
      "metadata": {
        "id": "10AP1eTpCUz6",
        "colab_type": "code",
        "colab": {}
      },
      "source": [
        "with open('results.txt', 'w') as filehandle:\n",
        "    for listitem in scores:\n",
        "        filehandle.write('%s at page %s\\n' % (listitem[1], listitem[0]))"
      ],
      "execution_count": 0,
      "outputs": []
    }
  ]
}